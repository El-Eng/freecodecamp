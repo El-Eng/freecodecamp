{
  "cells": [
    {
      "cell_type": "markdown",
      "metadata": {
        "id": "view-in-github",
        "colab_type": "text"
      },
      "source": [
        "<a href=\"https://colab.research.google.com/github/El-Eng/freecodecamp/blob/main/Copy_of_fcc_book_recommendation_knn.ipynb\" target=\"_parent\"><img src=\"https://colab.research.google.com/assets/colab-badge.svg\" alt=\"Open In Colab\"/></a>"
      ]
    },
    {
      "cell_type": "markdown",
      "metadata": {
        "id": "uGd4NYQX1Rf_"
      },
      "source": [
        "*Note: You are currently reading this using Google Colaboratory which is a cloud-hosted version of Jupyter Notebook. This is a document containing both text cells for documentation and runnable code cells. If you are unfamiliar with Jupyter Notebook, watch this 3-minute introduction before starting this challenge: https://www.youtube.com/watch?v=inN8seMm7UI*\n",
        "\n",
        "---\n",
        "\n",
        "In this challenge, you will create a book recommendation algorithm using **K-Nearest Neighbors**.\n",
        "\n",
        "You will use the [Book-Crossings dataset](http://www2.informatik.uni-freiburg.de/~cziegler/BX/). This dataset contains 1.1 million ratings (scale of 1-10) of 270,000 books by 90,000 users. \n",
        "\n",
        "After importing and cleaning the data, use `NearestNeighbors` from `sklearn.neighbors` to develop a model that shows books that are similar to a given book. The Nearest Neighbors algorithm measures distance to determine the “closeness” of instances.\n",
        "\n",
        "Create a function named `get_recommends` that takes a book title (from the dataset) as an argument and returns a list of 5 similar books with their distances from the book argument.\n",
        "\n",
        "This code:\n",
        "\n",
        "`get_recommends(\"The Queen of the Damned (Vampire Chronicles (Paperback))\")`\n",
        "\n",
        "should return:\n",
        "\n",
        "```\n",
        "[\n",
        "  'The Queen of the Damned (Vampire Chronicles (Paperback))',\n",
        "  [\n",
        "    ['Catch 22', 0.793983519077301], \n",
        "    ['The Witching Hour (Lives of the Mayfair Witches)', 0.7448656558990479], \n",
        "    ['Interview with the Vampire', 0.7345068454742432],\n",
        "    ['The Tale of the Body Thief (Vampire Chronicles (Paperback))', 0.5376338362693787],\n",
        "    ['The Vampire Lestat (Vampire Chronicles, Book II)', 0.5178412199020386]\n",
        "  ]\n",
        "]\n",
        "```\n",
        "\n",
        "Notice that the data returned from `get_recommends()` is a list. The first element in the list is the book title passed in to the function. The second element in the list is a list of five more lists. Each of the five lists contains a recommended book and the distance from the recommended book to the book passed in to the function.\n",
        "\n",
        "If you graph the dataset (optional), you will notice that most books are not rated frequently. To ensure statistical significance, remove from the dataset users with less than 200 ratings and books with less than 100 ratings.\n",
        "\n",
        "The first three cells import libraries you may need and the data to use. The final cell is for testing. Write all your code in between those cells."
      ]
    },
    {
      "cell_type": "code",
      "execution_count": 165,
      "metadata": {
        "id": "Y1onB6kUvo4Z"
      },
      "outputs": [],
      "source": [
        "# import libraries (you may add additional imports but you may not have to)\n",
        "import numpy as np\n",
        "import pandas as pd\n",
        "from scipy.sparse import csr_matrix\n",
        "from sklearn.neighbors import NearestNeighbors\n",
        "import matplotlib.pyplot as plt"
      ]
    },
    {
      "cell_type": "code",
      "execution_count": 166,
      "metadata": {
        "id": "iAQGqqO_vo4d"
      },
      "outputs": [],
      "source": [
        "# get data files\n",
        "#!wget https://cdn.freecodecamp.org/project-data/books/book-crossings.zip\n",
        "\n",
        "#!unzip book-crossings.zip\n",
        "\n",
        "books_filename = 'BX-Books.csv'\n",
        "ratings_filename = 'BX-Book-Ratings.csv'"
      ]
    },
    {
      "cell_type": "code",
      "execution_count": 167,
      "metadata": {
        "id": "NClILWOiEd6Q"
      },
      "outputs": [],
      "source": [
        "# import csv data into dataframes\n",
        "df_books = pd.read_csv(\n",
        "    books_filename,\n",
        "    encoding = \"ISO-8859-1\",\n",
        "    sep=\";\",\n",
        "    header=0,\n",
        "    names=['isbn', 'title', 'author'],\n",
        "    usecols=['isbn', 'title', 'author'],\n",
        "    dtype={'isbn': 'str', 'title': 'str', 'author': 'str'})\n",
        "\n",
        "df_ratings = pd.read_csv(\n",
        "    ratings_filename,\n",
        "    encoding = \"ISO-8859-1\",\n",
        "    sep=\";\",\n",
        "    header=0,\n",
        "    names=['user', 'isbn', 'rating'],\n",
        "    usecols=['user', 'isbn', 'rating'],\n",
        "    dtype={'user': 'int32', 'isbn': 'str', 'rating': 'float32'})"
      ]
    },
    {
      "cell_type": "code",
      "execution_count": 168,
      "metadata": {
        "id": "xAcXjkCFCh0A"
      },
      "outputs": [],
      "source": [
        "# add your code here - consider creating a new cell for each section of code"
      ]
    },
    {
      "cell_type": "markdown",
      "source": [
        "Remove ratings for ISBN's that arent in the books database"
      ],
      "metadata": {
        "id": "Rp3-70E5WdvJ"
      }
    },
    {
      "cell_type": "code",
      "source": [
        "#df_r = df_ratings[df_ratings['isbn'].isin(df_books['isbn'])]\n",
        "df_r = df_ratings"
      ],
      "metadata": {
        "id": "A2ynV8yaaGO4"
      },
      "execution_count": 169,
      "outputs": []
    },
    {
      "cell_type": "markdown",
      "source": [
        "Check duplicate books"
      ],
      "metadata": {
        "id": "cWlXFscUbGzY"
      }
    },
    {
      "cell_type": "code",
      "source": [
        "df_books[['title', 'author']].value_counts()"
      ],
      "metadata": {
        "colab": {
          "base_uri": "https://localhost:8080/"
        },
        "id": "y33B3RNla5CJ",
        "outputId": "4405cf47-55ad-4b2b-f1bd-41267799dd1c"
      },
      "execution_count": 170,
      "outputs": [
        {
          "output_type": "execute_result",
          "data": {
            "text/plain": [
              "title                                                     author           \n",
              "Little Women                                              Louisa May Alcott    21\n",
              "Wuthering Heights                                         Emily Bronte         20\n",
              "Adventures of Huckleberry Finn                            Mark Twain           20\n",
              "Pride and Prejudice                                       Jane Austen          18\n",
              "Jane Eyre                                                 Charlotte Bronte     16\n",
              "                                                                               ..\n",
              "Heritage of Shame                                         Meg Hutchinson        1\n",
              "Heritage of Stars                                         Clifford D. Simak     1\n",
              "Heritage of Western Civilization, Vol. 2, Eighth Edition  John L. Beatty        1\n",
              "Heritage: Civilization and the Jews                       Abba Solomon Eban     1\n",
              "Ã?Â?thique en toc                                         Didier Daeninckx      1\n",
              "Length: 251203, dtype: int64"
            ]
          },
          "metadata": {},
          "execution_count": 170
        }
      ]
    },
    {
      "cell_type": "code",
      "source": [
        "df_books[(df_books['title'] == 'Little Women') & (df_books['author'] == 'Louisa May Alcott') ]"
      ],
      "metadata": {
        "colab": {
          "base_uri": "https://localhost:8080/",
          "height": 708
        },
        "id": "gK4q_0t7bANb",
        "outputId": "21d333ec-3f5f-495f-a851-c65b6968d7ab"
      },
      "execution_count": 171,
      "outputs": [
        {
          "output_type": "execute_result",
          "data": {
            "text/plain": [
              "              isbn         title             author\n",
              "4330    0861782356  Little Women  Louisa May Alcott\n",
              "12228   0590203509  Little Women  Louisa May Alcott\n",
              "20677   0440447682  Little Women  Louisa May Alcott\n",
              "32838   1550134140  Little Women  Louisa May Alcott\n",
              "52213   0451529308  Little Women  Louisa May Alcott\n",
              "52554   0451518144  Little Women  Louisa May Alcott\n",
              "53361   0590437976  Little Women  Louisa May Alcott\n",
              "72171   0785788727  Little Women  Louisa May Alcott\n",
              "82568   0448110199  Little Women  Louisa May Alcott\n",
              "84810   0812523334  Little Women  Louisa May Alcott\n",
              "110751  0394562798  Little Women  Louisa May Alcott\n",
              "124847  0590433423  Little Women  Louisa May Alcott\n",
              "142267  0448054663  Little Women  Louisa May Alcott\n",
              "142308  0448023644  Little Women  Louisa May Alcott\n",
              "142311  0590404989  Little Women  Louisa May Alcott\n",
              "163556  0681400552  Little Women  Louisa May Alcott\n",
              "168791  1593081081  Little Women  Louisa May Alcott\n",
              "189674  1568651198  Little Women  Louisa May Alcott\n",
              "212783  0553211153  Little Women  Louisa May Alcott\n",
              "224572  0448172569  Little Women  Louisa May Alcott\n",
              "258070  0590225375  Little Women  Louisa May Alcott"
            ],
            "text/html": [
              "\n",
              "  <div id=\"df-5e043a2a-2f2b-463f-bf93-422d78fc5340\">\n",
              "    <div class=\"colab-df-container\">\n",
              "      <div>\n",
              "<style scoped>\n",
              "    .dataframe tbody tr th:only-of-type {\n",
              "        vertical-align: middle;\n",
              "    }\n",
              "\n",
              "    .dataframe tbody tr th {\n",
              "        vertical-align: top;\n",
              "    }\n",
              "\n",
              "    .dataframe thead th {\n",
              "        text-align: right;\n",
              "    }\n",
              "</style>\n",
              "<table border=\"1\" class=\"dataframe\">\n",
              "  <thead>\n",
              "    <tr style=\"text-align: right;\">\n",
              "      <th></th>\n",
              "      <th>isbn</th>\n",
              "      <th>title</th>\n",
              "      <th>author</th>\n",
              "    </tr>\n",
              "  </thead>\n",
              "  <tbody>\n",
              "    <tr>\n",
              "      <th>4330</th>\n",
              "      <td>0861782356</td>\n",
              "      <td>Little Women</td>\n",
              "      <td>Louisa May Alcott</td>\n",
              "    </tr>\n",
              "    <tr>\n",
              "      <th>12228</th>\n",
              "      <td>0590203509</td>\n",
              "      <td>Little Women</td>\n",
              "      <td>Louisa May Alcott</td>\n",
              "    </tr>\n",
              "    <tr>\n",
              "      <th>20677</th>\n",
              "      <td>0440447682</td>\n",
              "      <td>Little Women</td>\n",
              "      <td>Louisa May Alcott</td>\n",
              "    </tr>\n",
              "    <tr>\n",
              "      <th>32838</th>\n",
              "      <td>1550134140</td>\n",
              "      <td>Little Women</td>\n",
              "      <td>Louisa May Alcott</td>\n",
              "    </tr>\n",
              "    <tr>\n",
              "      <th>52213</th>\n",
              "      <td>0451529308</td>\n",
              "      <td>Little Women</td>\n",
              "      <td>Louisa May Alcott</td>\n",
              "    </tr>\n",
              "    <tr>\n",
              "      <th>52554</th>\n",
              "      <td>0451518144</td>\n",
              "      <td>Little Women</td>\n",
              "      <td>Louisa May Alcott</td>\n",
              "    </tr>\n",
              "    <tr>\n",
              "      <th>53361</th>\n",
              "      <td>0590437976</td>\n",
              "      <td>Little Women</td>\n",
              "      <td>Louisa May Alcott</td>\n",
              "    </tr>\n",
              "    <tr>\n",
              "      <th>72171</th>\n",
              "      <td>0785788727</td>\n",
              "      <td>Little Women</td>\n",
              "      <td>Louisa May Alcott</td>\n",
              "    </tr>\n",
              "    <tr>\n",
              "      <th>82568</th>\n",
              "      <td>0448110199</td>\n",
              "      <td>Little Women</td>\n",
              "      <td>Louisa May Alcott</td>\n",
              "    </tr>\n",
              "    <tr>\n",
              "      <th>84810</th>\n",
              "      <td>0812523334</td>\n",
              "      <td>Little Women</td>\n",
              "      <td>Louisa May Alcott</td>\n",
              "    </tr>\n",
              "    <tr>\n",
              "      <th>110751</th>\n",
              "      <td>0394562798</td>\n",
              "      <td>Little Women</td>\n",
              "      <td>Louisa May Alcott</td>\n",
              "    </tr>\n",
              "    <tr>\n",
              "      <th>124847</th>\n",
              "      <td>0590433423</td>\n",
              "      <td>Little Women</td>\n",
              "      <td>Louisa May Alcott</td>\n",
              "    </tr>\n",
              "    <tr>\n",
              "      <th>142267</th>\n",
              "      <td>0448054663</td>\n",
              "      <td>Little Women</td>\n",
              "      <td>Louisa May Alcott</td>\n",
              "    </tr>\n",
              "    <tr>\n",
              "      <th>142308</th>\n",
              "      <td>0448023644</td>\n",
              "      <td>Little Women</td>\n",
              "      <td>Louisa May Alcott</td>\n",
              "    </tr>\n",
              "    <tr>\n",
              "      <th>142311</th>\n",
              "      <td>0590404989</td>\n",
              "      <td>Little Women</td>\n",
              "      <td>Louisa May Alcott</td>\n",
              "    </tr>\n",
              "    <tr>\n",
              "      <th>163556</th>\n",
              "      <td>0681400552</td>\n",
              "      <td>Little Women</td>\n",
              "      <td>Louisa May Alcott</td>\n",
              "    </tr>\n",
              "    <tr>\n",
              "      <th>168791</th>\n",
              "      <td>1593081081</td>\n",
              "      <td>Little Women</td>\n",
              "      <td>Louisa May Alcott</td>\n",
              "    </tr>\n",
              "    <tr>\n",
              "      <th>189674</th>\n",
              "      <td>1568651198</td>\n",
              "      <td>Little Women</td>\n",
              "      <td>Louisa May Alcott</td>\n",
              "    </tr>\n",
              "    <tr>\n",
              "      <th>212783</th>\n",
              "      <td>0553211153</td>\n",
              "      <td>Little Women</td>\n",
              "      <td>Louisa May Alcott</td>\n",
              "    </tr>\n",
              "    <tr>\n",
              "      <th>224572</th>\n",
              "      <td>0448172569</td>\n",
              "      <td>Little Women</td>\n",
              "      <td>Louisa May Alcott</td>\n",
              "    </tr>\n",
              "    <tr>\n",
              "      <th>258070</th>\n",
              "      <td>0590225375</td>\n",
              "      <td>Little Women</td>\n",
              "      <td>Louisa May Alcott</td>\n",
              "    </tr>\n",
              "  </tbody>\n",
              "</table>\n",
              "</div>\n",
              "      <button class=\"colab-df-convert\" onclick=\"convertToInteractive('df-5e043a2a-2f2b-463f-bf93-422d78fc5340')\"\n",
              "              title=\"Convert this dataframe to an interactive table.\"\n",
              "              style=\"display:none;\">\n",
              "        \n",
              "  <svg xmlns=\"http://www.w3.org/2000/svg\" height=\"24px\"viewBox=\"0 0 24 24\"\n",
              "       width=\"24px\">\n",
              "    <path d=\"M0 0h24v24H0V0z\" fill=\"none\"/>\n",
              "    <path d=\"M18.56 5.44l.94 2.06.94-2.06 2.06-.94-2.06-.94-.94-2.06-.94 2.06-2.06.94zm-11 1L8.5 8.5l.94-2.06 2.06-.94-2.06-.94L8.5 2.5l-.94 2.06-2.06.94zm10 10l.94 2.06.94-2.06 2.06-.94-2.06-.94-.94-2.06-.94 2.06-2.06.94z\"/><path d=\"M17.41 7.96l-1.37-1.37c-.4-.4-.92-.59-1.43-.59-.52 0-1.04.2-1.43.59L10.3 9.45l-7.72 7.72c-.78.78-.78 2.05 0 2.83L4 21.41c.39.39.9.59 1.41.59.51 0 1.02-.2 1.41-.59l7.78-7.78 2.81-2.81c.8-.78.8-2.07 0-2.86zM5.41 20L4 18.59l7.72-7.72 1.47 1.35L5.41 20z\"/>\n",
              "  </svg>\n",
              "      </button>\n",
              "      \n",
              "  <style>\n",
              "    .colab-df-container {\n",
              "      display:flex;\n",
              "      flex-wrap:wrap;\n",
              "      gap: 12px;\n",
              "    }\n",
              "\n",
              "    .colab-df-convert {\n",
              "      background-color: #E8F0FE;\n",
              "      border: none;\n",
              "      border-radius: 50%;\n",
              "      cursor: pointer;\n",
              "      display: none;\n",
              "      fill: #1967D2;\n",
              "      height: 32px;\n",
              "      padding: 0 0 0 0;\n",
              "      width: 32px;\n",
              "    }\n",
              "\n",
              "    .colab-df-convert:hover {\n",
              "      background-color: #E2EBFA;\n",
              "      box-shadow: 0px 1px 2px rgba(60, 64, 67, 0.3), 0px 1px 3px 1px rgba(60, 64, 67, 0.15);\n",
              "      fill: #174EA6;\n",
              "    }\n",
              "\n",
              "    [theme=dark] .colab-df-convert {\n",
              "      background-color: #3B4455;\n",
              "      fill: #D2E3FC;\n",
              "    }\n",
              "\n",
              "    [theme=dark] .colab-df-convert:hover {\n",
              "      background-color: #434B5C;\n",
              "      box-shadow: 0px 1px 3px 1px rgba(0, 0, 0, 0.15);\n",
              "      filter: drop-shadow(0px 1px 2px rgba(0, 0, 0, 0.3));\n",
              "      fill: #FFFFFF;\n",
              "    }\n",
              "  </style>\n",
              "\n",
              "      <script>\n",
              "        const buttonEl =\n",
              "          document.querySelector('#df-5e043a2a-2f2b-463f-bf93-422d78fc5340 button.colab-df-convert');\n",
              "        buttonEl.style.display =\n",
              "          google.colab.kernel.accessAllowed ? 'block' : 'none';\n",
              "\n",
              "        async function convertToInteractive(key) {\n",
              "          const element = document.querySelector('#df-5e043a2a-2f2b-463f-bf93-422d78fc5340');\n",
              "          const dataTable =\n",
              "            await google.colab.kernel.invokeFunction('convertToInteractive',\n",
              "                                                     [key], {});\n",
              "          if (!dataTable) return;\n",
              "\n",
              "          const docLinkHtml = 'Like what you see? Visit the ' +\n",
              "            '<a target=\"_blank\" href=https://colab.research.google.com/notebooks/data_table.ipynb>data table notebook</a>'\n",
              "            + ' to learn more about interactive tables.';\n",
              "          element.innerHTML = '';\n",
              "          dataTable['output_type'] = 'display_data';\n",
              "          await google.colab.output.renderOutput(dataTable, element);\n",
              "          const docLink = document.createElement('div');\n",
              "          docLink.innerHTML = docLinkHtml;\n",
              "          element.appendChild(docLink);\n",
              "        }\n",
              "      </script>\n",
              "    </div>\n",
              "  </div>\n",
              "  "
            ]
          },
          "metadata": {},
          "execution_count": 171
        }
      ]
    },
    {
      "cell_type": "markdown",
      "source": [
        "**Can add code here to remove instances of multiple isbn numbers for the same book, and add an addional \"unique book id\" column to the df_books based of book, author pairs, then add the same column to the df_ratings. Then use this as the index for the transformation and suggestion algorithm.**\n",
        "\n",
        "duplicate_isbn = df_books.groupby(['title', 'author']).first().reset_index()"
      ],
      "metadata": {
        "id": "rduekYC7aa-H"
      }
    },
    {
      "cell_type": "markdown",
      "source": [
        "Remove authors and books with less than 20 reviews"
      ],
      "metadata": {
        "id": "8bW_OFXXbLCt"
      }
    },
    {
      "cell_type": "code",
      "source": [
        "book_rev_num = 100\n",
        "user_rev_num = 200"
      ],
      "metadata": {
        "id": "jZ1H3JH8pgbg"
      },
      "execution_count": 172,
      "outputs": []
    },
    {
      "cell_type": "code",
      "source": [
        "df_r_rmu = df_r[ df_r['user'].isin((df_r['user'].value_counts() > user_rev_num)[df_r['user'].value_counts() > user_rev_num].index)]"
      ],
      "metadata": {
        "id": "3kmn4r_q2IQ6"
      },
      "execution_count": 173,
      "outputs": []
    },
    {
      "cell_type": "code",
      "source": [
        "df_r_rmb = df_r_rmu[ df_r['isbn'].isin((df_r['isbn'].value_counts() > book_rev_num)[df_r['isbn'].value_counts() > book_rev_num].index)]"
      ],
      "metadata": {
        "colab": {
          "base_uri": "https://localhost:8080/"
        },
        "id": "A8ZwBQ7RKj0Y",
        "outputId": "7631ecc5-6587-4df3-fb15-5a31da060098"
      },
      "execution_count": 184,
      "outputs": [
        {
          "output_type": "stream",
          "name": "stderr",
          "text": [
            "/usr/local/lib/python3.7/dist-packages/ipykernel_launcher.py:1: UserWarning: Boolean Series key will be reindexed to match DataFrame index.\n",
            "  \"\"\"Entry point for launching an IPython kernel.\n"
          ]
        }
      ]
    },
    {
      "cell_type": "markdown",
      "source": [
        "dataframe too big to .pivot, so do it in chunks"
      ],
      "metadata": {
        "id": "mYyrd6gY9KWN"
      }
    },
    {
      "cell_type": "code",
      "source": [
        "df_ratings_pivot = df_r_rmb.pivot(\n",
        "    index='isbn',\n",
        "    columns='user',\n",
        "    values='rating'\n",
        ").fillna(0)\n",
        "\n",
        "df_ratings_pivot.index = df_ratings_pivot.join(df_books.set_index('isbn'))['title']"
      ],
      "metadata": {
        "id": "0CPGg5Jt0Ysp"
      },
      "execution_count": 186,
      "outputs": []
    },
    {
      "cell_type": "code",
      "source": [
        "# convert dataframe of movie features to scipy sparse matrix\n",
        "mat_ratings = csr_matrix(df_ratings_pivot.values)"
      ],
      "metadata": {
        "id": "3E3dbyQ8LJJP"
      },
      "execution_count": 187,
      "outputs": []
    },
    {
      "cell_type": "code",
      "source": [
        "# # https://stackoverflow.com/questions/61757170/python-unstacked-dataframe-is-too-big-causing-int32-overflow\n",
        "# from tqdm import tqdm\n",
        "# chunk_size = 100\n",
        "# chunks = [x for x in range(0, df_ratings_clean.shape[0], chunk_size)]\n",
        "\n",
        "# df_ratings_pivot = pd.DataFrame()\n",
        "\n",
        "# for i in tqdm(range(0, len(chunks) - 1)):\n",
        "#     chunk_df = df_ratings_clean.iloc[ chunks[i]:chunks[i + 1] - 1]\n",
        "#     interactions = chunk_df.pivot(\n",
        "#       index='isbn',\n",
        "#       columns='user',\n",
        "#       values='rating'\n",
        "#     )\n",
        "#     df_ratings_pivot = df_ratings_pivot.append(interactions, sort=False) "
      ],
      "metadata": {
        "id": "G6oHR7Ql9PZc"
      },
      "execution_count": 177,
      "outputs": []
    },
    {
      "cell_type": "code",
      "source": [
        "model_knn = NearestNeighbors(metric='cosine')#, algorithm='brute', n_neighbors=20, n_jobs=-1)"
      ],
      "metadata": {
        "id": "FdrTnUOvLHwe"
      },
      "execution_count": 188,
      "outputs": []
    },
    {
      "cell_type": "code",
      "source": [
        "model_knn.fit(mat_ratings)"
      ],
      "metadata": {
        "colab": {
          "base_uri": "https://localhost:8080/"
        },
        "id": "om5PnZIkMgAt",
        "outputId": "9eddeb53-adb5-42bd-fb2d-23bfd05d5566"
      },
      "execution_count": 189,
      "outputs": [
        {
          "output_type": "execute_result",
          "data": {
            "text/plain": [
              "NearestNeighbors(metric='cosine')"
            ]
          },
          "metadata": {},
          "execution_count": 189
        }
      ]
    },
    {
      "cell_type": "code",
      "execution_count": 190,
      "metadata": {
        "id": "f5ZUd-L1SQz7"
      },
      "outputs": [],
      "source": [
        "# function to return recommended books - this will be tested\n",
        "def get_recommends(book = \"\"):\n",
        "  distance, indice = model_knn.kneighbors([df_ratings_pivot.loc[book].values], n_neighbors=6)\n",
        "  output = np.column_stack((df_ratings_pivot.iloc[indice[0]].index.values[1:], distance[0][1:].astype(float)))\n",
        "  recommended_books = [book, output[output[:,1].argsort()[::-1]] ]\n",
        "  return recommended_books\n",
        "\n",
        "\n",
        "\n",
        "# [\n",
        "#   'The Queen of the Damned (Vampire Chronicles (Paperback))',\n",
        "#   [\n",
        "#     ['Catch 22', 0.793983519077301], \n",
        "#     ['The Witching Hour (Lives of the Mayfair Witches)', 0.7448656558990479], \n",
        "#     ['Interview with the Vampire', 0.7345068454742432],\n",
        "#     ['The Tale of the Body Thief (Vampire Chronicles (Paperback))', 0.5376338362693787],\n",
        "#     ['The Vampire Lestat (Vampire Chronicles, Book II)', 0.5178412199020386]\n",
        "#   ]\n",
        "# ]\n"
      ]
    },
    {
      "cell_type": "markdown",
      "metadata": {
        "id": "eat9A2TKawHU"
      },
      "source": [
        "Use the cell below to test your function. The `test_book_recommendation()` function will inform you if you passed the challenge or need to keep trying."
      ]
    },
    {
      "cell_type": "code",
      "execution_count": 191,
      "metadata": {
        "id": "jd2SLCh8oxMh",
        "colab": {
          "base_uri": "https://localhost:8080/"
        },
        "outputId": "f27fc22f-2b05-4562-ffd8-534fac803e95"
      },
      "outputs": [
        {
          "output_type": "stream",
          "name": "stdout",
          "text": [
            "[\"Where the Heart Is (Oprah's Book Club (Paperback))\", array([[\"I'll Be Seeing You\", 0.8016210794448853],\n",
            "       ['The Weight of Water', 0.7708583474159241],\n",
            "       ['The Surgeon', 0.7699410915374756],\n",
            "       ['I Know This Much Is True', 0.7677075266838074],\n",
            "       ['The Lovely Bones: A Novel', 0.7230184078216553]], dtype=object)]\n",
            "You passed the challenge! 🎉🎉🎉🎉🎉\n"
          ]
        }
      ],
      "source": [
        "books = get_recommends(\"Where the Heart Is (Oprah's Book Club (Paperback))\")\n",
        "print(books)\n",
        "\n",
        "def test_book_recommendation():\n",
        "  test_pass = True\n",
        "  recommends = get_recommends(\"Where the Heart Is (Oprah's Book Club (Paperback))\")\n",
        "  if recommends[0] != \"Where the Heart Is (Oprah's Book Club (Paperback))\":\n",
        "    test_pass = False\n",
        "  recommended_books = [\"I'll Be Seeing You\", 'The Weight of Water', 'The Surgeon', 'I Know This Much Is True']\n",
        "  recommended_books_dist = [0.8, 0.77, 0.77, 0.77]\n",
        "  for i in range(2): \n",
        "    if recommends[1][i][0] not in recommended_books:\n",
        "      test_pass = False\n",
        "    if abs(recommends[1][i][1] - recommended_books_dist[i]) >= 0.05:\n",
        "      test_pass = False\n",
        "  if test_pass:\n",
        "    print(\"You passed the challenge! 🎉🎉🎉🎉🎉\")\n",
        "  else:\n",
        "    print(\"You haven't passed yet. Keep trying!\")\n",
        "\n",
        "test_book_recommendation()"
      ]
    },
    {
      "cell_type": "code",
      "source": [
        "book = \"The Queen of the Damned (Vampire Chronicles (Paperback))\"\n",
        "\n",
        "\n",
        "\n",
        "# [\n",
        "#   'The Queen of the Damned (Vampire Chronicles (Paperback))',\n",
        "#   [\n",
        "#     ['Catch 22', 0.793983519077301], \n",
        "#     ['The Witching Hour (Lives of the Mayfair Witches)', 0.7448656558990479], \n",
        "#     ['Interview with the Vampire', 0.7345068454742432],\n",
        "#     ['The Tale of the Body Thief (Vampire Chronicles (Paperback))', 0.5376338362693787],\n",
        "#     ['The Vampire Lestat (Vampire Chronicles, Book II)', 0.5178412199020386]\n",
        "#   ]\n",
        "# ]\n"
      ],
      "metadata": {
        "id": "0mw60vZNhFdI"
      },
      "execution_count": 182,
      "outputs": []
    },
    {
      "cell_type": "code",
      "source": [
        ""
      ],
      "metadata": {
        "id": "tsrzxiqipIVB"
      },
      "execution_count": 182,
      "outputs": []
    }
  ],
  "metadata": {
    "colab": {
      "collapsed_sections": [],
      "name": "Copy of fcc_book_recommendation_knn.ipynb",
      "provenance": [],
      "include_colab_link": true
    },
    "kernelspec": {
      "display_name": "Python 3",
      "language": "python",
      "name": "python3"
    },
    "language_info": {
      "codemirror_mode": {
        "name": "ipython",
        "version": 3
      },
      "file_extension": ".py",
      "mimetype": "text/x-python",
      "name": "python",
      "nbconvert_exporter": "python",
      "pygments_lexer": "ipython3",
      "version": "3.6.5"
    }
  },
  "nbformat": 4,
  "nbformat_minor": 0
}